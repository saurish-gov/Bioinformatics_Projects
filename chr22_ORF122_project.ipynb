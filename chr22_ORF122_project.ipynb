{
 "cells": [
  {
   "cell_type": "markdown",
   "metadata": {},
   "source": [
    "**Genomic Visualization Tool: Analyzing DNA Sequences with Biopython and Matplotlib**"
   ]
  },
  {
   "cell_type": "markdown",
   "metadata": {},
   "source": [
    "the packages used are Biopython, pandas and matplotlib."
   ]
  },
  {
   "cell_type": "code",
   "execution_count": 59,
   "metadata": {},
   "outputs": [],
   "source": [
    "import Bio\n",
    "from Bio import SeqIO\n",
    "import matplotlib.pyplot as plt "
   ]
  },
  {
   "cell_type": "markdown",
   "metadata": {},
   "source": [
    "finding the individual nucleotide count in a selected sequence, and also finding number of masked / unknown regions in the sequence."
   ]
  },
  {
   "cell_type": "code",
   "execution_count": 3,
   "metadata": {},
   "outputs": [
    {
     "name": "stdout",
     "output_type": "stream",
     "text": [
      "NC_000022.11 Homo sapiens chromosome 22, GRCh38.p14 Primary Assembly\n",
      "Count of A = 10382214 Count of T = 10370725 Count of G = 9246186 Count of C = 9160652 Count of 'N' = 11658686\n"
     ]
    }
   ],
   "source": [
    "#individual nucleotide count \n",
    "\n",
    "result = SeqIO.parse(handle=\"sequence-2.fasta\",format=\"fasta\")\n",
    "for NA in result:\n",
    "    print(NA.description)\n",
    "    A_ = \"Count of A = \"  + str(NA.count(\"A\"))\n",
    "    B_ = \"Count of T = \"  + str(NA.count(\"T\"))\n",
    "    C_ = \"Count of G = \"  + str(NA.count(\"G\"))\n",
    "    D_ = \"Count of C = \"  + str(NA.count(\"C\"))\n",
    "    E_ = \"Count of 'N' = \" + str(NA.count(\"N\"))\n",
    "\n",
    "print(A_,B_,C_,D_,E_)"
   ]
  },
  {
   "cell_type": "markdown",
   "metadata": {},
   "source": [
    "visualizing the composition of each nucleotide, finding the AT and GC counts, and the AT:GC ratio "
   ]
  },
  {
   "cell_type": "code",
   "execution_count": 14,
   "metadata": {},
   "outputs": [
    {
     "data": {
      "image/png": "[encoded data removed]",
      "text/plain": [
       "<Figure size 400x400 with 1 Axes>"
      ]
     },
     "metadata": {},
     "output_type": "display_data"
    }
   ],
   "source": [
    "#percent visualization of each nucleotide\n",
    "\n",
    "import matplotlib.pyplot as plt\n",
    "counts = { \n",
    "    'A': NA.count(\"A\"),\n",
    "    'T': NA.count(\"T\"),\n",
    "    'G': NA.count(\"G\"),\n",
    "    'C': NA.count(\"C\")\n",
    "}\n",
    "plt.figure(figsize=(4, 4))\n",
    "plt.pie(counts.values(), labels=counts.keys(), autopct='%1.1f%%', startangle=60)\n",
    "plt.title('Distribution of A, T, G, & C')\n",
    "plt.axis('equal')\n",
    "plt.show()"
   ]
  },
  {
   "cell_type": "code",
   "execution_count": 24,
   "metadata": {},
   "outputs": [
    {
     "name": "stdout",
     "output_type": "stream",
     "text": [
      "AT Count : 20752939\n",
      "GC Count : 18406838\n",
      "AT-GC ratio : 1.1274581218132087\n"
     ]
    }
   ],
   "source": [
    "# Nucleotide composition analysis \n",
    "AT_count = NA.count(\"A\") + NA.count(\"T\")\n",
    "print(\"AT Count : \" + str(AT_count))\n",
    "\n",
    "GC_count = NA.count(\"G\") + NA.count(\"C\")\n",
    "print(\"GC Count : \" + str(GC_count))\n",
    "\n",
    "AT_GC_ratio = AT_count / GC_count\n",
    "print(\"AT-GC ratio : \" + str(AT_GC_ratio))"
   ]
  },
  {
   "cell_type": "markdown",
   "metadata": {},
   "source": [
    "removing the masked / unknown regions of the DNA sequence ie; cleaning the sequence "
   ]
  },
  {
   "cell_type": "code",
   "execution_count": 27,
   "metadata": {},
   "outputs": [
    {
     "name": "stdout",
     "output_type": "stream",
     "text": [
      "Cleaning complete.\n"
     ]
    }
   ],
   "source": [
    "#removing the unknown regions from the DNA file of chromosome 22\n",
    "\n",
    "from Bio import SeqIO\n",
    "from Bio.Seq import Seq\n",
    "\n",
    "input_fasta_file = \"/Users/saurishpandkar/Desktop/Py/Saurish_Practice/sequence-2.fasta\"\n",
    "output_fasta_file = \"/Users/saurishpandkar/Desktop/Py/Saurish_Practice/sequence-2-cleaned.fasta\"\n",
    "\n",
    "def remove_N_regions(seq):\n",
    "    return Seq(str(seq).replace('N', ''))\n",
    "\n",
    "\n",
    "with open(output_fasta_file, \"w\") as output_handle:\n",
    "    for record in SeqIO.parse(input_fasta_file, \"fasta\"):\n",
    "        record.seq = remove_N_regions(record.seq)\n",
    "        SeqIO.write(record, output_handle, \"fasta\")\n",
    "\n",
    "print(\"Cleaning complete.\")"
   ]
  },
  {
   "cell_type": "markdown",
   "metadata": {},
   "source": [
    "transcribing the cleaned DNA sequence to an mRNA sequence for further analysis "
   ]
  },
  {
   "cell_type": "code",
   "execution_count": 28,
   "metadata": {},
   "outputs": [
    {
     "name": "stdout",
     "output_type": "stream",
     "text": [
      "Transcription complete.\n"
     ]
    }
   ],
   "source": [
    "#transcribe the cleaned DNA sequence to an mRNA sequence \n",
    "\n",
    "from Bio import SeqIO\n",
    "\n",
    "input_fasta_file = \"/Users/saurishpandkar/Desktop/Py/Saurish_Practice/sequence-2-cleaned.fasta\"\n",
    "output_fasta_file = \"/Users/saurishpandkar/Desktop/Py/Saurish_Practice/sequence-2-output.fasta\"\n",
    "\n",
    "with open(output_fasta_file, \"w\") as output_handle:\n",
    "    for record in SeqIO.parse(input_fasta_file, \"fasta\"):\n",
    "        transcribed_seq = record.seq.transcribe()\n",
    "        record.seq = transcribed_seq\n",
    "        SeqIO.write(record, output_handle, \"fasta\")\n",
    "\n",
    "print(\"Transcription complete.\")"
   ]
  },
  {
   "cell_type": "markdown",
   "metadata": {},
   "source": [
    "finding the GC content in the transcribed mRNA "
   ]
  },
  {
   "cell_type": "code",
   "execution_count": 35,
   "metadata": {},
   "outputs": [
    {
     "name": "stdout",
     "output_type": "stream",
     "text": [
      "ID: NC_000022.11, GC Content: 47.00%\n"
     ]
    }
   ],
   "source": [
    "#find the GC content in the transcribed mRNA \n",
    "\n",
    "from Bio import SeqIO\n",
    "\n",
    "def gc_content(seq):\n",
    "    gc_count = seq.count('G') + seq.count('C')\n",
    "    total_bases = len(seq)\n",
    "    gc_percentage = (gc_count / total_bases) * 100\n",
    "    return gc_percentage\n",
    "\n",
    "\n",
    "input_fasta_file = \"/Users/saurishpandkar/Desktop/Py/Saurish_Practice/sequence-2-output.fasta\"\n",
    "\n",
    "for record in SeqIO.parse(input_fasta_file, \"fasta\"):\n",
    "    gc = gc_content(record.seq)\n",
    "    print(\"ID: {}, GC Content: {:.2f}%\".format(record.id, gc))"
   ]
  },
  {
   "cell_type": "markdown",
   "metadata": {},
   "source": [
    "Using ORF Finder, the largest ORF was found from NC_000022.11 to be ORF122 and now using the FASTA file of ORF122 we will perform certain analyses"
   ]
  },
  {
   "cell_type": "code",
   "execution_count": 53,
   "metadata": {},
   "outputs": [
    {
     "name": "stdout",
     "output_type": "stream",
     "text": [
      "ORF122 ID: lcl|ORF122:16389:17432\n",
      "ORF122 Sequence: MLSAPAAAAAFCPRPQHRGFFSPTPRLFAAAATGTAFWPRRLFAPTAAAFCSPPPRFLPTRLFTPLAAAFADAAFYSPPPRLLAAASFCPRHRGFLPPRLFGSAAAAFCPRRRGFLPPQPLLFAAFSPTAAGFADAAFCAHRRGFLLRAARFCPRRRGFLTPPPQLFPPVAGFRPHRSDFLPPPPRLFAPAATTFCGFLPTPPRLFPPPPELFAAAAFCPRRRGFLPPELSAPAAVAFSPDAAAFCPRLRGFFVPAAETFCRHSFLPAPPRLFVVFFAPTPAAFCSCHRGFLPPPRIFTPAAEDFSPGAAALRAGAADSAASSTGVLARAAPRGAPGPALLARGFFA\n",
      "Total length: 347\n"
     ]
    }
   ],
   "source": [
    "#read the ORF protein sequence and find its total length \n",
    "\n",
    "from Bio import SeqIO\n",
    "\n",
    "fasta_file = \"ORF122.fasta\"\n",
    "\n",
    "for record in SeqIO.parse(fasta_file, \"fasta\"):\n",
    "    ORF122_sequence = record.seq\n",
    "    print(\"ORF122 ID: \" + str(record.id))\n",
    "    print(\"ORF122 Sequence: \" + str(ORF122_sequence))\n",
    "    print(\"Total length: \" + str(len(ORF122_sequence)))"
   ]
  },
  {
   "cell_type": "markdown",
   "metadata": {},
   "source": [
    "visualize the amino acid content graphically"
   ]
  },
  {
   "cell_type": "code",
   "execution_count": 56,
   "metadata": {},
   "outputs": [
    {
     "data": {
      "image/png": "[encoded data removed]",
      "text/plain": [
       "<Figure size 1000x500 with 1 Axes>"
      ]
     },
     "metadata": {},
     "output_type": "display_data"
    }
   ],
   "source": [
    "#graphically visualize the amino acid counts in the ORF protein \n",
    "\n",
    "from Bio import SeqIO\n",
    "from Bio.SeqUtils import ProtParam\n",
    "import matplotlib.pyplot as plt\n",
    "\n",
    "fasta_file = \"ORF122.fasta\"\n",
    "\n",
    "with open(\"ORF122.fasta\", 'r') as file:\n",
    "    record = SeqIO.read(file, 'fasta')\n",
    "    sequence = str(record.seq)\n",
    "\n",
    "protein_analysis = ProtParam.ProteinAnalysis(sequence)\n",
    "\n",
    "amino_acid_counts = protein_analysis.count_amino_acids()\n",
    "amino_acids = list(amino_acid_counts.keys())\n",
    "counts = list(amino_acid_counts.values())\n",
    "\n",
    "plt.figure(figsize=(10, 5))\n",
    "plt.bar(amino_acids, counts, color='skyblue')\n",
    "plt.xlabel('Amino Acids')\n",
    "plt.ylabel('Counts')\n",
    "plt.title('Amino Acid Frequency in the ORF Protein')\n",
    "plt.show()"
   ]
  },
  {
   "cell_type": "markdown",
   "metadata": {},
   "source": [
    "finding the isoelectric point and molecular weight of the amino acid sequence "
   ]
  },
  {
   "cell_type": "code",
   "execution_count": 67,
   "metadata": {},
   "outputs": [
    {
     "name": "stdout",
     "output_type": "stream",
     "text": [
      "isoelectric point : 11.767752647399902\n",
      "molecular weight : 36895.73160000006 Da\n"
     ]
    }
   ],
   "source": [
    "#isoelectric point and molecular weight analysis \n",
    "\n",
    "from Bio import SeqIO\n",
    "from Bio.SeqUtils import ProtParam\n",
    "\n",
    "fasta_file = \"ORF122.fasta\"\n",
    "\n",
    "with open(\"ORF122.fasta\", 'r') as file:\n",
    "    record = SeqIO.read(file, 'fasta')\n",
    "    sequence = str(record.seq)\n",
    "\n",
    "protein_analysis = ProtParam.ProteinAnalysis(sequence)    \n",
    "\n",
    "isoelectric_point = protein_analysis.isoelectric_point()\n",
    "print(\"isoelectric point : \" + str(isoelectric_point))\n",
    "\n",
    "molecular_weight = protein_analysis.molecular_weight()\n",
    "print(\"molecular weight : \" + str(molecular_weight) + \" Da\")"
   ]
  }
 ],
 "metadata": {
  "kernelspec": {
   "display_name": "base",
   "language": "python",
   "name": "python3"
  },
  "language_info": {
   "codemirror_mode": {
    "name": "ipython",
    "version": 3
   },
   "file_extension": ".py",
   "mimetype": "text/x-python",
   "name": "python",
   "nbconvert_exporter": "python",
   "pygments_lexer": "ipython3",
   "version": "3.11.5"
  }
 },
 "nbformat": 4,
 "nbformat_minor": 2
}
